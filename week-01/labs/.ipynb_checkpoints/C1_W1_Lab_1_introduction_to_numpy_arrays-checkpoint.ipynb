{
 "cells": [
  {
   "attachments": {
    "image.png": {
     "image/png": "[encoded data removed]"
    }
   },
   "cell_type": "markdown",
   "id": "developing-pattern",
   "metadata": {},
   "source": [
    "![image.png](attachment:image.png)"
   ]
  },
  {
   "cell_type": "markdown",
   "id": "existing-japanese",
   "metadata": {},
   "source": [
    "# Introduction to Python Matrices and NumPy #\n",
    "\n",
    "Welcome to your first notebook of this specialization! In this notebook, you will use NumPy to create 2-D arrays and easily compute mathematical operations. NumPy (Numerical Python) is an open-source package that is widely used in science and engineering. Feel free to skip this notebook if you are already fluent with NumPy.\n",
    "\n",
    "**After this assignment you will be able to:**\n",
    "- Use Jupyter Notebook and its features. \n",
    "- Use NumPy functions to create arrays and NumPy array operations. \n",
    "- Use indexing and slicing for 2-D arrays.\n",
    "- Find the shape of an array, reshape it and stack it horizontally and vertically.\n",
    "\n",
    "**Instructions**\n",
    "- You will be using Python 3.\n",
    "- Follow along the cells using `Shift`+`Enter`. Alternatively, you can press `Run` in the menu. "
   ]
  },
  {
   "cell_type": "markdown",
   "id": "indie-lithuania",
   "metadata": {},
   "source": [
    "## Table of Contents ##\n",
    "[About Jupyter Notebooks](#0)\n",
    "- [1 - Basics of NumPy](#1)\n",
    "    - [1.1 - Packages](#1-1)\n",
    "    - [1.2 - Advantages of using NumPy arrays](#1-2)\n",
    "    - [1.3 - How to create NumPy arrays](#1-3)\n",
    "    - [1.4 - More on NumPy arrays](#1-4)\n",
    "- [2 - Multidimensional arrays](#2)\n",
    "    - [2.1 - Finding size, shape and dimension](#2-1)\n",
    "- [3 - Array math operations](#3)\n",
    "    - [3.1 - Multiplying vector with a scalar (broadcasting)](#3-1)\n",
    "- [4 - Indexing and slicing](#4)\n",
    "    - [4.1 - Indexing](#4-1)\n",
    "    - [4.2 - Slicing](#4-2)\n",
    "- [5 - Stacking](#5)\n",
    "- [6 - Exercises](#6)"
   ]
  },
  {
   "cell_type": "markdown",
   "id": "welsh-generic",
   "metadata": {},
   "source": [
    "<a name='0'></a>\n",
    "## About Jupyter Notebooks ##\n",
    "\n",
    "\n",
    "Jupyter Notebooks are interactive coding journals that integrate live code, explanatory text, equations, visualizations and other multimedia resources, all in a single document. As a first exercise, run the test snippet below and the print statement cell for \"Hello World\"."
   ]
  },
  {
   "cell_type": "code",
   "execution_count": 1,
   "id": "expired-interface",
   "metadata": {},
   "outputs": [],
   "source": [
    "# Run the \"Hello World\" in the cell below to print \"Hello World\". \n",
    "test = \"Hello World\""
   ]
  },
  {
   "cell_type": "code",
   "execution_count": 2,
   "id": "instrumental-macro",
   "metadata": {
    "scrolled": true
   },
   "outputs": [
    {
     "name": "stdout",
     "output_type": "stream",
     "text": [
      "Hello World\n"
     ]
    }
   ],
   "source": [
    "print(test)"
   ]
  },
  {
   "cell_type": "markdown",
   "id": "whole-fundamental",
   "metadata": {},
   "source": [
    "<a name='1'></a>\n",
    "# 1 - Basics of NumPy #\n",
    "\n",
    "NumPy is the main package for scientific computing in Python. It performs a wide variety of advanced mathematical operations with high efficiency. In this practice lab you will learn several key NumPy functions that will help you in future assignments, such as creating arrays, slicing, indexing, reshaping and stacking."
   ]
  },
  {
   "cell_type": "markdown",
   "id": "neutral-concern",
   "metadata": {},
   "source": [
    "<a name='1-1'></a>\n",
    "## 1.1 - Packages ##"
   ]
  },
  {
   "cell_type": "markdown",
   "id": "warming-hypothesis",
   "metadata": {},
   "source": [
    "Before you get started, you have to import NumPy to load its functions. As you may notice, even though there is no expected output, when you run this cell, the Jupyter Notebook imports the package (often referred to as the library) and its functions. Try it for yourself and run the following cell."
   ]
  },
  {
   "cell_type": "code",
   "execution_count": 3,
   "id": "under-hardware",
   "metadata": {},
   "outputs": [],
   "source": [
    "import numpy as np"
   ]
  },
  {
   "cell_type": "markdown",
   "id": "entire-entertainment",
   "metadata": {},
   "source": [
    "<a name='1-2'></a>\n",
    "## 1.2 - Advantages of using NumPy arrays ##"
   ]
  },
  {
   "cell_type": "markdown",
   "id": "skilled-action",
   "metadata": {},
   "source": [
    "Arrays are one of the core data structures of the NumPy library, essential for organizing your data. You can think of them as a grid of values, all of the same type. If you have used Python lists before, you may remember that they are convenient, as you can store different data types. However, Python lists are limited in functions and take up more space and time to process than NumPy arrays.\n",
    "\n",
    "NumPy provides an array object that is much faster and more compact than Python lists. Through its extensive API integration, the library offers many built-in functions that make computing much easier with only a few lines of code. This can be a huge advantage when performing math operations on large datasets. \n",
    "\n",
    "The array object in NumPy is called `ndarray` meaning 'n-dimensional array'. To begin with, you will use one of the most common array types: the one-dimensional array ('1-D'). A 1-D array represents a standard list of values entirely in one dimension. Remember that in NumPy, all of the elements within the array are of the same type."
   ]
  },
  {
   "cell_type": "code",
   "execution_count": 4,
   "id": "rural-ceiling",
   "metadata": {},
   "outputs": [
    {
     "name": "stdout",
     "output_type": "stream",
     "text": [
      "[10 12]\n"
     ]
    }
   ],
   "source": [
    "one_dimensional_arr = np.array([10, 12])\n",
    "print(one_dimensional_arr)"
   ]
  },
  {
   "cell_type": "markdown",
   "id": "planned-billy",
   "metadata": {},
   "source": [
    "<a name='1-3'></a>\n",
    "## 1.3 - How to create NumPy arrays ##"
   ]
  },
  {
   "cell_type": "markdown",
   "id": "dynamic-benjamin",
   "metadata": {},
   "source": [
    "There are several ways to create an array in NumPy. You can create a 1-D array by simply using the function `array()` which takes in a list of values as an argument and returns a 1-D array."
   ]
  },
  {
   "cell_type": "code",
   "execution_count": 5,
   "id": "single-amplifier",
   "metadata": {},
   "outputs": [
    {
     "name": "stdout",
     "output_type": "stream",
     "text": [
      "[1 2 3]\n"
     ]
    }
   ],
   "source": [
    "# Create and print a NumPy array 'a' containing the elements 1, 2, 3.\n",
    "a = np.array([1, 2, 3])\n",
    "print(a)"
   ]
  },
  {
   "cell_type": "markdown",
   "id": "flexible-palace",
   "metadata": {},
   "source": [
    "Another way to implement an array is using `np.arange()`. This function will return an array of evenly spaced values within a given interval. To learn more about the arguments that this function takes, there is a powerful feature in Jupyter Notebook that allows you to access the documentation of any function by simply pressing `shift+tab` on your keyboard when clicking on the function. Give it a try for the built-in documentation of `np.arange()`. "
   ]
  },
  {
   "cell_type": "code",
   "execution_count": 6,
   "id": "aggressive-beginning",
   "metadata": {},
   "outputs": [
    {
     "name": "stdout",
     "output_type": "stream",
     "text": [
      "[0 1 2]\n"
     ]
    }
   ],
   "source": [
    "# Create an array with 3 integers, starting from the default integer 0.\n",
    "b = np.arange(3)\n",
    "print(b)"
   ]
  },
  {
   "cell_type": "code",
   "execution_count": 7,
   "id": "mineral-assets",
   "metadata": {},
   "outputs": [
    {
     "name": "stdout",
     "output_type": "stream",
     "text": [
      "[ 1  4  7 10 13 16 19]\n"
     ]
    }
   ],
   "source": [
    "# Create an array that starts from the integer 1, ends at 20, incremented by 3.\n",
    "c = np.arange(1, 20, 3)\n",
    "print(c)"
   ]
  },
  {
   "cell_type": "markdown",
   "id": "little-entrance",
   "metadata": {},
   "source": [
    "What if you wanted to create an array with five evenly spaced values in the interval from 0 to 100? As you may notice, you have 3 parameters that a function must take. One paremeter is the starting number, in  this case 0, the final number 100 and the number of elements in the array, in this case, 5. NumPy has a function that allows you to do specifically this by using `np.linspace()`."
   ]
  },
  {
   "cell_type": "code",
   "execution_count": 8,
   "id": "hispanic-offset",
   "metadata": {},
   "outputs": [
    {
     "name": "stdout",
     "output_type": "stream",
     "text": [
      "[  0.  25.  50.  75. 100.]\n"
     ]
    }
   ],
   "source": [
    "lin_spaced_arr = np.linspace(0, 100, 5)\n",
    "print(lin_spaced_arr)"
   ]
  },
  {
   "cell_type": "markdown",
   "id": "victorian-norway",
   "metadata": {},
   "source": [
    "Did you notice that the output of the function is presented in the float value form (e.g. \"... 25. 50. ...\")? The reason is that the default type for values in the NumPy function `np.linspace` is a floating point (`np.float64`). You can easily specify your data type using `dtype`. If you access the built-in documentation of the functions, you may notice that most functions take in an optional parameter `dtype`. In addition to float, NumPy has several other data types such as `int`, and `char`. \n",
    "\n",
    "To change the type to integers, you need to set the dtype to `int`. You can do so, even in the previous functions. Feel free to try it out and modify the cells to output your desired data type. "
   ]
  },
  {
   "cell_type": "code",
   "execution_count": 9,
   "id": "black-worker",
   "metadata": {
    "scrolled": true
   },
   "outputs": [
    {
     "name": "stdout",
     "output_type": "stream",
     "text": [
      "[  0  25  50  75 100]\n"
     ]
    }
   ],
   "source": [
    "lin_spaced_arr_int = np.linspace(0, 100, 5, dtype=int)\n",
    "print(lin_spaced_arr_int)"
   ]
  },
  {
   "cell_type": "code",
   "execution_count": 10,
   "id": "specialized-intellectual",
   "metadata": {},
   "outputs": [
    {
     "name": "stdout",
     "output_type": "stream",
     "text": [
      "[ 1  4  7 10 13 16 19]\n"
     ]
    }
   ],
   "source": [
    "c_int = np.arange(1, 20, 3, dtype=int)\n",
    "print(c_int)"
   ]
  },
  {
   "cell_type": "code",
   "execution_count": 11,
   "id": "irish-greeting",
   "metadata": {},
   "outputs": [
    {
     "name": "stdout",
     "output_type": "stream",
     "text": [
      "[0. 1. 2.]\n"
     ]
    }
   ],
   "source": [
    "b_float = np.arange(3, dtype=float)\n",
    "print(b_float)"
   ]
  },
  {
   "cell_type": "code",
   "execution_count": 12,
   "id": "visible-logic",
   "metadata": {},
   "outputs": [
    {
     "name": "stdout",
     "output_type": "stream",
     "text": [
      "['Welcome to Math for ML!']\n",
      "<U23\n"
     ]
    }
   ],
   "source": [
    "char_arr = np.array(['Welcome to Math for ML!'])\n",
    "print(char_arr)\n",
    "print(char_arr.dtype) # Prints the data type of the array"
   ]
  },
  {
   "cell_type": "markdown",
   "id": "korean-identity",
   "metadata": {},
   "source": [
    "Did you notice that the output of the data type of the `char_arr` array is `<U23`? \n",
    "This means that the string (`'Welcome to Math for ML!'`) is a 23-character (23) unicode string (`U`) on a little-endian architecture (`<`). You can learn more about data types [here](https://numpy.org/doc/stable/user/basics.types.html)."
   ]
  },
  {
   "cell_type": "markdown",
   "id": "ready-backup",
   "metadata": {},
   "source": [
    "<a name='1-4'></a>\n",
    "## 1.4 - More on NumPy arrays ##\n",
    "\n",
    "One of the advantages of using NumPy is that you can easily create arrays with built-in functions such as: \n",
    "- `np.ones()` - Returns a new array setting values to one.\n",
    "- `np.zeros()` - Returns a new array setting values to zero.\n",
    "- `np.empty()` - Returns a new uninitialized array. \n",
    "- `np.random.rand()` - Returns a new array with values chosen at random."
   ]
  },
  {
   "cell_type": "code",
   "execution_count": 13,
   "id": "prime-gamma",
   "metadata": {},
   "outputs": [
    {
     "name": "stdout",
     "output_type": "stream",
     "text": [
      "[1. 1. 1.]\n"
     ]
    }
   ],
   "source": [
    "# Return a new array of shape 3, filled with ones. \n",
    "ones_arr = np.ones(3)\n",
    "print(ones_arr)"
   ]
  },
  {
   "cell_type": "code",
   "execution_count": 14,
   "id": "altered-timer",
   "metadata": {},
   "outputs": [
    {
     "name": "stdout",
     "output_type": "stream",
     "text": [
      "[0. 0. 0.]\n"
     ]
    }
   ],
   "source": [
    "# Return a new array of shape 3, filled with zeroes.\n",
    "zeros_arr = np.zeros(3)\n",
    "print(zeros_arr)"
   ]
  },
  {
   "cell_type": "code",
   "execution_count": 15,
   "id": "loaded-kansas",
   "metadata": {},
   "outputs": [
    {
     "name": "stdout",
     "output_type": "stream",
     "text": [
      "[0. 0. 0.]\n"
     ]
    }
   ],
   "source": [
    "# Return a new array of shape 3, without initializing entries.\n",
    "empt_arr = np.empty(3)\n",
    "print(empt_arr)"
   ]
  },
  {
   "cell_type": "code",
   "execution_count": 16,
   "id": "color-steps",
   "metadata": {},
   "outputs": [
    {
     "name": "stdout",
     "output_type": "stream",
     "text": [
      "[0.51036254 0.38539978 0.27675967]\n"
     ]
    }
   ],
   "source": [
    "# Return a new array of shape 3 with random numbers between 0 and 1.\n",
    "rand_arr = np.random.rand(3)\n",
    "print(rand_arr)"
   ]
  },
  {
   "cell_type": "markdown",
   "id": "angry-engagement",
   "metadata": {},
   "source": [
    "<a name='2'></a>\n",
    "# 2 - Multidimensional Arrays #\n",
    "With NumPy you can also create arrays with more than one dimension. In the above examples, you dealt with 1-D arrays, where you can access their elements using a single index. A multidimensional array has more than one column. Think of a multidimensional array as an excel sheet where each row/column represents a dimension."
   ]
  },
  {
   "attachments": {
    "0_Vh-pKXTJsdL-9FT0.png": {
     "image/png": "[encoded data removed]"
    }
   },
   "cell_type": "markdown",
   "id": "editorial-adobe",
   "metadata": {},
   "source": [
    "![0_Vh-pKXTJsdL-9FT0.png](attachment:0_Vh-pKXTJsdL-9FT0.png)"
   ]
  },
  {
   "cell_type": "code",
   "execution_count": 17,
   "id": "turned-nevada",
   "metadata": {},
   "outputs": [
    {
     "name": "stdout",
     "output_type": "stream",
     "text": [
      "[[1 2 3]\n",
      " [4 5 6]]\n"
     ]
    }
   ],
   "source": [
    "# Create a 2 dimensional array (2-D)\n",
    "two_dim_arr = np.array([[1,2,3], [4,5,6]])\n",
    "print(two_dim_arr)"
   ]
  },
  {
   "cell_type": "markdown",
   "id": "greater-rescue",
   "metadata": {},
   "source": [
    "An alternative way to create a multidimensional array is by reshaping the initial 1-D array. Using `np.reshape()` you can rearrange elements of the previous array into a new shape. "
   ]
  },
  {
   "cell_type": "code",
   "execution_count": 18,
   "id": "assisted-traveler",
   "metadata": {},
   "outputs": [
    {
     "name": "stdout",
     "output_type": "stream",
     "text": [
      "[[1 2 3]\n",
      " [4 5 6]]\n"
     ]
    }
   ],
   "source": [
    "# 1-D array \n",
    "one_dim_arr = np.array([1, 2, 3, 4, 5, 6])\n",
    "\n",
    "# Multidimensional array using reshape()\n",
    "multi_dim_arr = np.reshape(\n",
    "                one_dim_arr, # the array to be reshaped\n",
    "               (2,3) # dimensions of the new array\n",
    "              )\n",
    "# Print the new 2-D array with two rows and three columns\n",
    "print(multi_dim_arr)"
   ]
  },
  {
   "cell_type": "markdown",
   "id": "threaded-continent",
   "metadata": {},
   "source": [
    "<!-- exercise: can you create an array with three rows and 4 columns using np.ones . Whats the dimension, size and shape of the array? -->"
   ]
  },
  {
   "cell_type": "markdown",
   "id": "loving-accordance",
   "metadata": {},
   "source": [
    "<a name='2-1'></a>\n",
    "## 2.1 - Finding size, shape and dimension. ##"
   ]
  },
  {
   "cell_type": "markdown",
   "id": "suitable-russian",
   "metadata": {},
   "source": [
    "In future assignments, you will need to know how to find the size, dimension and shape of an array. These are all atrributes of a `ndarray` and can be accessed as follows:\n",
    "- `ndarray.ndim` - Stores the number dimensions of the array. \n",
    "- `ndarray.shape` - Stores the shape of the array. Each number in the tuple denotes the lengths of each corresponding dimension.\n",
    "- `ndarray.size` - Stores the number of elements in the array.\n"
   ]
  },
  {
   "cell_type": "code",
   "execution_count": 19,
   "id": "caring-julian",
   "metadata": {},
   "outputs": [
    {
     "data": {
      "text/plain": [
       "2"
      ]
     },
     "execution_count": 19,
     "metadata": {},
     "output_type": "execute_result"
    }
   ],
   "source": [
    "# Dimension of the 2-D array multi_dim_arr\n",
    "multi_dim_arr.ndim"
   ]
  },
  {
   "cell_type": "code",
   "execution_count": 20,
   "id": "canadian-ribbon",
   "metadata": {},
   "outputs": [
    {
     "data": {
      "text/plain": [
       "(2, 3)"
      ]
     },
     "execution_count": 20,
     "metadata": {},
     "output_type": "execute_result"
    }
   ],
   "source": [
    "# Shape of the 2-D array multi_dim_arr\n",
    "# Returns shape of 2 rows and 3 columns\n",
    "multi_dim_arr.shape"
   ]
  },
  {
   "cell_type": "code",
   "execution_count": 21,
   "id": "infectious-peeing",
   "metadata": {},
   "outputs": [
    {
     "data": {
      "text/plain": [
       "6"
      ]
     },
     "execution_count": 21,
     "metadata": {},
     "output_type": "execute_result"
    }
   ],
   "source": [
    "# Size of the array multi_dim_arr\n",
    "# Returns total number of elements\n",
    "multi_dim_arr.size"
   ]
  },
  {
   "cell_type": "markdown",
   "id": "mighty-berry",
   "metadata": {},
   "source": [
    "<a name='3'></a>\n",
    "# 3 - Array math operations #\n",
    "In this section, you will see that NumPy allows you to quickly perform elementwise addition, substraction, multiplication and division for both 1-D and multidimensional arrays. The operations are performed using the math symbol for each '+', '-' and '*'. Recall that addition of Python lists works completely differently as it would append the lists, thus making a longer list, in addition, subtraction and multiplication of Python lists do not work. "
   ]
  },
  {
   "cell_type": "code",
   "execution_count": 22,
   "id": "exposed-shower",
   "metadata": {},
   "outputs": [
    {
     "name": "stdout",
     "output_type": "stream",
     "text": [
      "[ 3  7 11]\n",
      "[1 1 1]\n",
      "[ 2 12 30]\n"
     ]
    }
   ],
   "source": [
    "arr_1 = np.array([2, 4, 6])\n",
    "arr_2 = np.array([1, 3, 5])\n",
    "\n",
    "# Adding two 1-D arrays\n",
    "addition = arr_1 + arr_2\n",
    "print(addition)\n",
    "\n",
    "# Subtracting two 1-D arrays\n",
    "subtraction = arr_1 - arr_2\n",
    "print(subtraction)\n",
    "\n",
    "# Multiplying two 1-D arrays elementwise\n",
    "multiplication = arr_1 * arr_2\n",
    "print(multiplication)"
   ]
  },
  {
   "cell_type": "markdown",
   "id": "latest-slovenia",
   "metadata": {},
   "source": [
    "<a name='3-1'></a>\n",
    "## 3.1 - Multiplying vector with a scalar (broadcasting) ##\n",
    "Suppose you need to convert miles to kilometers. To do so, you can use the NumPy array functions that you've learned so far. You can do this by carrying out an operation between an array (miles) and a single number (the conversion rate which is a scalar). Since, 1 mile = 1.6 km, NumPy computes each multiplication within each cell. \n",
    "\n",
    "This concept is called **broadcasting**, which allows you to perform operations specifically on arrays of different shapes. "
   ]
  },
  {
   "cell_type": "code",
   "execution_count": 23,
   "id": "eligible-grant",
   "metadata": {},
   "outputs": [
    {
     "data": {
      "text/plain": [
       "array([1.6, 3.2])"
      ]
     },
     "execution_count": 23,
     "metadata": {},
     "output_type": "execute_result"
    }
   ],
   "source": [
    "vector = np.array([1, 2])\n",
    "vector * 1.6"
   ]
  },
  {
   "attachments": {
    "Unknown-2.png": {
     "image/png": "[encoded data removed]"
    }
   },
   "cell_type": "markdown",
   "id": "seasonal-milwaukee",
   "metadata": {},
   "source": [
    "![Unknown-2.png](attachment:Unknown-2.png)"
   ]
  },
  {
   "cell_type": "markdown",
   "id": "plain-thumbnail",
   "metadata": {},
   "source": [
    "<a name='4'></a>\n",
    "# 4 - Indexing and slicing #\n",
    "Indexing is very useful as it allows you to select specific elements from an array. It also lets you select entire rows/columns or planes as you'll see in future assignments for multidimensional arrays. \n",
    "\n",
    "## 4.1 - Indexing ##\n",
    "Let us select specific elements from the arrays as given. "
   ]
  },
  {
   "cell_type": "code",
   "execution_count": 24,
   "id": "sought-amazon",
   "metadata": {},
   "outputs": [
    {
     "name": "stdout",
     "output_type": "stream",
     "text": [
      "3\n",
      "1\n"
     ]
    }
   ],
   "source": [
    "# Select the third element of the array. Remember the counting starts from 0.\n",
    "a = ([1, 2, 3, 4, 5])\n",
    "print(a[2])\n",
    "\n",
    "# Select the first element of the array.\n",
    "print(a[0])"
   ]
  },
  {
   "cell_type": "markdown",
   "id": "australian-pharmacy",
   "metadata": {},
   "source": [
    "For multidimensional arrays of shape `n`, to index a specific element, you must input `n` indices, one for each dimension."
   ]
  },
  {
   "cell_type": "code",
   "execution_count": 25,
   "id": "characteristic-positive",
   "metadata": {},
   "outputs": [
    {
     "name": "stdout",
     "output_type": "stream",
     "text": [
      "8\n"
     ]
    }
   ],
   "source": [
    "# Indexing on a 2-D array\n",
    "two_dim = np.array(([1, 2, 3],\n",
    "          [4, 5, 6], \n",
    "          [7, 8, 9]))\n",
    "\n",
    "# Select element number 8 from the 2-D array using indices i, j.\n",
    "print(two_dim[2][1])"
   ]
  },
  {
   "cell_type": "markdown",
   "id": "southwest-warrant",
   "metadata": {},
   "source": [
    "<a name='4-2'></a>\n",
    "## 4.2 - Slicing ##\n",
    "Slicing gives you a sublist of elements that you specify from the array. The slice notation specifies a start and end value, and copies the list from start up to but not including the end (end-exclusive). \n",
    "\n",
    "The syntax is:\n",
    "\n",
    "`array[start:end:step]`\n",
    "\n",
    "If no value is passed to start, it is assumed `start = 0`, if no value is passed to end, it is assumed that `end = length of array - 1` and if no value is passed to step, it is assumed `step = 1`."
   ]
  },
  {
   "cell_type": "code",
   "execution_count": 26,
   "id": "moral-police",
   "metadata": {
    "scrolled": true
   },
   "outputs": [
    {
     "name": "stdout",
     "output_type": "stream",
     "text": [
      "[2, 3, 4]\n"
     ]
    }
   ],
   "source": [
    "# Slice the array a to get the array [2,3,4]\n",
    "sliced_arr = a[1:4]\n",
    "print(sliced_arr)"
   ]
  },
  {
   "cell_type": "code",
   "execution_count": 27,
   "id": "181bce55",
   "metadata": {},
   "outputs": [
    {
     "name": "stdout",
     "output_type": "stream",
     "text": [
      "[1, 2, 3]\n"
     ]
    }
   ],
   "source": [
    "# Slice the array a to get the array [1,2,3]\n",
    "sliced_arr = a[:3]\n",
    "print(sliced_arr)"
   ]
  },
  {
   "cell_type": "code",
   "execution_count": 28,
   "id": "63bfcd06",
   "metadata": {},
   "outputs": [
    {
     "name": "stdout",
     "output_type": "stream",
     "text": [
      "[3, 4, 5]\n"
     ]
    }
   ],
   "source": [
    "# Slice the array a to get the array [3,4,5]\n",
    "sliced_arr = a[2:]\n",
    "print(sliced_arr)"
   ]
  },
  {
   "cell_type": "code",
   "execution_count": 29,
   "id": "0469a119",
   "metadata": {},
   "outputs": [
    {
     "name": "stdout",
     "output_type": "stream",
     "text": [
      "[1, 3, 5]\n"
     ]
    }
   ],
   "source": [
    "# Slice the array a to get the array [1,3,5]\n",
    "sliced_arr = a[::2]\n",
    "print(sliced_arr)"
   ]
  },
  {
   "cell_type": "code",
   "execution_count": 30,
   "id": "f2ef18ad",
   "metadata": {},
   "outputs": [
    {
     "name": "stdout",
     "output_type": "stream",
     "text": [
      "True\n"
     ]
    }
   ],
   "source": [
    "# Note that a == a[:] == a[::]\n",
    "print(a == a[:] == a[::])"
   ]
  },
  {
   "cell_type": "code",
   "execution_count": 31,
   "id": "norwegian-fence",
   "metadata": {},
   "outputs": [
    {
     "data": {
      "text/plain": [
       "array([[1, 2, 3],\n",
       "       [4, 5, 6]])"
      ]
     },
     "execution_count": 31,
     "metadata": {},
     "output_type": "execute_result"
    }
   ],
   "source": [
    "# Slice the two_dim array to get the first two rows\n",
    "sliced_arr_1 = two_dim[0:2]\n",
    "sliced_arr_1"
   ]
  },
  {
   "cell_type": "code",
   "execution_count": 32,
   "id": "structured-lease",
   "metadata": {},
   "outputs": [
    {
     "name": "stdout",
     "output_type": "stream",
     "text": [
      "[[4 5 6]\n",
      " [7 8 9]]\n"
     ]
    }
   ],
   "source": [
    "# Similarily, slice the two_dim array to get the last two rows\n",
    "sliced_two_dim_rows = two_dim[1:3]\n",
    "print(sliced_two_dim_rows)"
   ]
  },
  {
   "cell_type": "code",
   "execution_count": 33,
   "id": "fourth-center",
   "metadata": {},
   "outputs": [
    {
     "name": "stdout",
     "output_type": "stream",
     "text": [
      "[2 5 8]\n"
     ]
    }
   ],
   "source": [
    "sliced_two_dim_cols = two_dim[:,1]\n",
    "print(sliced_two_dim_cols)"
   ]
  },
  {
   "cell_type": "markdown",
   "id": "appointed-worry",
   "metadata": {},
   "source": [
    "<a name='5'></a>\n",
    "# 5 - Stacking #\n",
    "Finally, stacking is a feature of NumPy that leads to increased customization of arrays. It means to join two or more arrays, either horizontally or vertically, meaning that it is done along a new axis. \n",
    "\n",
    "- `np.vstack()` - stacks vertically\n",
    "- `np.hstack()` - stacks horizontally\n",
    "- `np.hsplit()` - splits an array into several smaller arrays"
   ]
  },
  {
   "cell_type": "code",
   "execution_count": 34,
   "id": "casual-sacramento",
   "metadata": {},
   "outputs": [
    {
     "name": "stdout",
     "output_type": "stream",
     "text": [
      "a1:\n",
      "[[1 1]\n",
      " [2 2]]\n",
      "a2:\n",
      "[[3 3]\n",
      " [4 4]]\n"
     ]
    }
   ],
   "source": [
    "a1 = np.array([[1,1], \n",
    "               [2,2]])\n",
    "a2 = np.array([[3,3],\n",
    "              [4,4]])\n",
    "print(f'a1:\\n{a1}')\n",
    "print(f'a2:\\n{a2}')"
   ]
  },
  {
   "cell_type": "code",
   "execution_count": 35,
   "id": "bizarre-welsh",
   "metadata": {},
   "outputs": [
    {
     "name": "stdout",
     "output_type": "stream",
     "text": [
      "[[1 1]\n",
      " [2 2]\n",
      " [3 3]\n",
      " [4 4]]\n"
     ]
    }
   ],
   "source": [
    "# Stack the arrays vertically\n",
    "vert_stack = np.vstack((a1, a2))\n",
    "print(vert_stack)\n"
   ]
  },
  {
   "cell_type": "code",
   "execution_count": 36,
   "id": "applicable-tampa",
   "metadata": {},
   "outputs": [
    {
     "name": "stdout",
     "output_type": "stream",
     "text": [
      "[[1 1 3 3]\n",
      " [2 2 4 4]]\n"
     ]
    }
   ],
   "source": [
    "# Stack the arrays horizontally\n",
    "horz_stack = np.hstack((a1, a2))\n",
    "print(horz_stack)"
   ]
  },
  {
   "cell_type": "markdown",
   "id": "wanted-society",
   "metadata": {},
   "source": [
    "<a name='6'></a>\n",
    "## Exercises ##\n",
    "Well done! Now, from what you learned today, try to answer the following question. \n",
    "\n",
    "### Question 1 ###\n",
    "Is there a difference between `np.zeros()` and `np.empty()`? Select one of the options given:\n",
    "- A. No difference, they both output arrays of zeros. \n",
    "- B. `np.zeros()` is not initialized, but gives an output of zeros. \n",
    "- C. `np.zeros()` is faster to execute than `np.empty()`.\n",
    "- D. `np.empty()` outputs an uninitialized array, but `np.zeros()` outputs an initialized array of value zero."
   ]
  },
  {
   "cell_type": "code",
   "execution_count": 40,
   "id": "fitted-architect",
   "metadata": {
    "scrolled": false
   },
   "outputs": [
    {
     "name": "stdout",
     "output_type": "stream",
     "text": [
      "\u001b[1mPlease select the correct option:\n"
     ]
    },
    {
     "data": {
      "application/vnd.jupyter.widget-view+json": {
       "model_id": "c046e1c66c7540d1b5a8f7828e27b5e9",
       "version_major": 2,
       "version_minor": 0
      },
      "text/plain": [
       "interactive(children=(Dropdown(description='Answer', layout=Layout(width='25%'), options=('A', 'B', 'C', 'D'),…"
      ]
     },
     "metadata": {},
     "output_type": "display_data"
    }
   ],
   "source": [
    "# Run this cell to select your answer\n",
    "import quiz\n",
    "import ipywidgets as widgets\n",
    "q1 = quiz.mcq(quiz.question1, quiz.solution1)"
   ]
  },
  {
   "cell_type": "markdown",
   "id": "romance-mining",
   "metadata": {},
   "source": [
    "Congratulations on finishing your first notebook of this specialization!"
   ]
  },
  {
   "cell_type": "code",
   "execution_count": 38,
   "id": "stuck-settle",
   "metadata": {},
   "outputs": [],
   "source": [
    "a = np.zeros(2)"
   ]
  },
  {
   "cell_type": "code",
   "execution_count": 39,
   "id": "careful-eugene",
   "metadata": {},
   "outputs": [
    {
     "data": {
      "text/plain": [
       "array([0., 0.])"
      ]
     },
     "execution_count": 39,
     "metadata": {},
     "output_type": "execute_result"
    }
   ],
   "source": [
    "a"
   ]
  },
  {
   "cell_type": "code",
   "execution_count": null,
   "id": "atomic-characteristic",
   "metadata": {},
   "outputs": [],
   "source": []
  }
 ],
 "metadata": {
  "kernelspec": {
   "display_name": "Python 3 (ipykernel)",
   "language": "python",
   "name": "python3"
  },
  "language_info": {
   "codemirror_mode": {
    "name": "ipython",
    "version": 3
   },
   "file_extension": ".py",
   "mimetype": "text/x-python",
   "name": "python",
   "nbconvert_exporter": "python",
   "pygments_lexer": "ipython3",
   "version": "3.10.11"
  },
  "vscode": {
   "interpreter": {
    "hash": "56d44d6a8424451b5ce45d1ae0b0b7865dc60710e7f74571dd51dd80d7829ee9"
   }
  }
 },
 "nbformat": 4,
 "nbformat_minor": 5
}
